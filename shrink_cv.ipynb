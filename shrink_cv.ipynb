{
  "nbformat": 4,
  "nbformat_minor": 0,
  "metadata": {
    "colab": {
      "name": "shrink_cv.ipynb",
      "provenance": []
    },
    "kernelspec": {
      "name": "python3",
      "display_name": "Python 3"
    }
  },
  "cells": [
    {
      "cell_type": "code",
      "metadata": {
        "id": "jeSxP4Y45069",
        "colab_type": "code",
        "colab": {}
      },
      "source": [
        "\n",
        "import cv2 \n",
        "import numpy as np \n",
        "import matplotlib.pyplot as plt  \n",
        "% matplotlib inline \n",
        "# This is a magic command to display in external window \n",
        "  \n",
        "image = cv2.imread(\"/content/drive/My Drive/Colab Notebooks/hand_num.png\", 0) \n",
        "# Loading the image \n",
        "  \n",
        "shrunk = cv2.resize(image, (28, 28), interpolation = cv2.INTER_AREA) \n",
        "shrunk = np.array(shrunk)\n",
        "np.savetxt(\"/content/drive/My Drive/Colab Notebooks/test_imgdata.csv\", shrunk, delimiter = \",\")\n",
        "\n",
        "#Titles =[\"Original\", \"Shrunk\"] \n",
        "#images =[image, shrunk] \n",
        "#count = 2\n",
        "  \n",
        "#for i in range(count): \n",
        "#    plt.subplot(2, 2, i + 1) \n",
        "#    plt.title(Titles[i]) \n",
        "#    plt.imshow(images[i]) \n",
        "  \n",
        "#plt.show() \n"
      ],
      "execution_count": 0,
      "outputs": []
    }
  ]
}