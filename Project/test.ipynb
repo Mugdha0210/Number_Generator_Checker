{
 "cells": [
  {
   "cell_type": "code",
   "execution_count": 1,
   "metadata": {},
   "outputs": [],
   "source": [
    "# load json and create model\n",
    "def loadModel():\n",
    "    json_file = open('model.json', 'r')\n",
    "    loaded_model_json = json_file.read()\n",
    "    json_file.close()\n",
    "    loaded_model = model_from_json(loaded_model_json)\n",
    "    \n",
    "    # load weights into new model\n",
    "    loaded_model.load_weights(\"model.h5\")\n",
    "    return loaded_model"
   ]
  },
  {
   "cell_type": "code",
   "execution_count": null,
   "metadata": {},
   "outputs": [],
   "source": [
    "from numpy import genfromtxt"
   ]
  },
  {
   "cell_type": "code",
   "execution_count": null,
   "metadata": {},
   "outputs": [],
   "source": [
    "def testPNG(model, filename, number):  \n",
    "    my_data = genfromtxt(filename, delimiter=',')\n",
    "    \n",
    "    #reshaping array \n",
    "    my_data = my_data.reshape(28, 28)\n",
    "    my_data = my_data.reshape(1, 28, 28, 1)\n",
    "    \n",
    "    y_test = np.array([[0., 0., 0., 0., 0., 0., 0., 0., 0., 0.]])\n",
    "    y_test[number] = 1.\n",
    "    score = model.evaluate(my_data, y_test, verbose=0) \n",
    "    accuracy = score[1]\n",
    "    \n",
    "    #likelihood of each number in terms of probability\n",
    "    prob_array = model.predict(my_data)\n",
    "    \n",
    "    #returns a probability array of size 1, 10\n",
    "    return [accuracy, prob_array]"
   ]
  }
 ],
 "metadata": {
  "kernelspec": {
   "display_name": "Python 3",
   "language": "python",
   "name": "python3"
  },
  "language_info": {
   "codemirror_mode": {
    "name": "ipython",
    "version": 3
   },
   "file_extension": ".py",
   "mimetype": "text/x-python",
   "name": "python",
   "nbconvert_exporter": "python",
   "pygments_lexer": "ipython3",
   "version": "3.7.4"
  }
 },
 "nbformat": 4,
 "nbformat_minor": 2
}
